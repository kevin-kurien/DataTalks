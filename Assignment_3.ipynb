{
 "cells": [
  {
   "cell_type": "code",
   "execution_count": 10,
   "id": "71c60e71",
   "metadata": {},
   "outputs": [
    {
     "name": "stdout",
     "output_type": "stream",
     "text": [
      "Index(['lead_source', 'industry', 'number_of_courses_viewed', 'annual_income',\n",
      "       'employment_status', 'location', 'interaction_count', 'lead_score',\n",
      "       'converted'],\n",
      "      dtype='object')\n"
     ]
    },
    {
     "data": {
      "text/plain": [
       "'retail'"
      ]
     },
     "execution_count": 10,
     "metadata": {},
     "output_type": "execute_result"
    }
   ],
   "source": [
    "import pandas as pd\n",
    "\n",
    "# Load the CSV\n",
    "df = pd.read_csv('course_lead_scoring.csv')\n",
    "print(df.columns)\n",
    "# Inspect\n",
    "df['industry'].mode()[0]\n",
    "\n"
   ]
  },
  {
   "cell_type": "code",
   "execution_count": 6,
   "id": "80e72064",
   "metadata": {},
   "outputs": [
    {
     "data": {
      "text/html": [
       "<div>\n",
       "<style scoped>\n",
       "    .dataframe tbody tr th:only-of-type {\n",
       "        vertical-align: middle;\n",
       "    }\n",
       "\n",
       "    .dataframe tbody tr th {\n",
       "        vertical-align: top;\n",
       "    }\n",
       "\n",
       "    .dataframe thead th {\n",
       "        text-align: right;\n",
       "    }\n",
       "</style>\n",
       "<table border=\"1\" class=\"dataframe\">\n",
       "  <thead>\n",
       "    <tr style=\"text-align: right;\">\n",
       "      <th></th>\n",
       "      <th>number_of_courses_viewed</th>\n",
       "      <th>annual_income</th>\n",
       "      <th>interaction_count</th>\n",
       "      <th>lead_score</th>\n",
       "      <th>converted</th>\n",
       "    </tr>\n",
       "  </thead>\n",
       "  <tbody>\n",
       "    <tr>\n",
       "      <th>number_of_courses_viewed</th>\n",
       "      <td>1.000000</td>\n",
       "      <td>0.031551</td>\n",
       "      <td>-0.023565</td>\n",
       "      <td>-0.004879</td>\n",
       "      <td>0.435914</td>\n",
       "    </tr>\n",
       "    <tr>\n",
       "      <th>annual_income</th>\n",
       "      <td>0.031551</td>\n",
       "      <td>1.000000</td>\n",
       "      <td>0.048618</td>\n",
       "      <td>0.005334</td>\n",
       "      <td>0.078256</td>\n",
       "    </tr>\n",
       "    <tr>\n",
       "      <th>interaction_count</th>\n",
       "      <td>-0.023565</td>\n",
       "      <td>0.048618</td>\n",
       "      <td>1.000000</td>\n",
       "      <td>0.009888</td>\n",
       "      <td>0.374573</td>\n",
       "    </tr>\n",
       "    <tr>\n",
       "      <th>lead_score</th>\n",
       "      <td>-0.004879</td>\n",
       "      <td>0.005334</td>\n",
       "      <td>0.009888</td>\n",
       "      <td>1.000000</td>\n",
       "      <td>0.193673</td>\n",
       "    </tr>\n",
       "    <tr>\n",
       "      <th>converted</th>\n",
       "      <td>0.435914</td>\n",
       "      <td>0.078256</td>\n",
       "      <td>0.374573</td>\n",
       "      <td>0.193673</td>\n",
       "      <td>1.000000</td>\n",
       "    </tr>\n",
       "  </tbody>\n",
       "</table>\n",
       "</div>"
      ],
      "text/plain": [
       "                          number_of_courses_viewed  annual_income  \\\n",
       "number_of_courses_viewed                  1.000000       0.031551   \n",
       "annual_income                             0.031551       1.000000   \n",
       "interaction_count                        -0.023565       0.048618   \n",
       "lead_score                               -0.004879       0.005334   \n",
       "converted                                 0.435914       0.078256   \n",
       "\n",
       "                          interaction_count  lead_score  converted  \n",
       "number_of_courses_viewed          -0.023565   -0.004879   0.435914  \n",
       "annual_income                      0.048618    0.005334   0.078256  \n",
       "interaction_count                  1.000000    0.009888   0.374573  \n",
       "lead_score                         0.009888    1.000000   0.193673  \n",
       "converted                          0.374573    0.193673   1.000000  "
      ]
     },
     "execution_count": 6,
     "metadata": {},
     "output_type": "execute_result"
    }
   ],
   "source": [
    "corr = df.corr(numeric_only=True)\n",
    "corr\n"
   ]
  },
  {
   "cell_type": "code",
   "execution_count": 7,
   "id": "e1a1e7e4",
   "metadata": {},
   "outputs": [
    {
     "name": "stdout",
     "output_type": "stream",
     "text": [
      "interaction_count & lead_score: 0.010\n",
      "number_of_courses_viewed & lead_score: -0.005\n",
      "number_of_courses_viewed & interaction_count: -0.024\n",
      "annual_income & interaction_count: 0.049\n"
     ]
    }
   ],
   "source": [
    "pairs = [\n",
    "    ('interaction_count', 'lead_score'),\n",
    "    ('number_of_courses_viewed', 'lead_score'),\n",
    "    ('number_of_courses_viewed', 'interaction_count'),\n",
    "    ('annual_income', 'interaction_count')\n",
    "]\n",
    "for a, b in pairs:\n",
    "    print(f'{a} & {b}: {corr.loc[a, b]:.3f}')\n"
   ]
  },
  {
   "cell_type": "code",
   "execution_count": 17,
   "id": "f9c94357",
   "metadata": {},
   "outputs": [
    {
     "name": "stdout",
     "output_type": "stream",
     "text": [
      "Dropped 0 rows with missing 'converted' target\n"
     ]
    },
    {
     "data": {
      "text/plain": [
       "(876, 293, 293)"
      ]
     },
     "execution_count": 17,
     "metadata": {},
     "output_type": "execute_result"
    }
   ],
   "source": [
    "from sklearn.model_selection import train_test_split\n",
    "\n",
    "# Preprocess once so later cells don't need to drop/impute repeatedly\n",
    "# Work on a copy to keep original raw df intact\n",
    "df_prep = df.copy()\n",
    "\n",
    "# Define categorical and numeric columns we will impute\n",
    "cat_cols = ['lead_source', 'industry', 'employment_status', 'location']\n",
    "num_cols = ['number_of_courses_viewed', 'annual_income', 'interaction_count', 'lead_score']\n",
    "\n",
    "# Drop rows with missing target (can't train without target)\n",
    "before_rows = len(df_prep)\n",
    "df_prep = df_prep.dropna(subset=['converted'])\n",
    "dropped_target = before_rows - len(df_prep)\n",
    "print(f\"Dropped {dropped_target} rows with missing 'converted' target\")\n",
    "\n",
    "# Fill categorical NaNs with a placeholder\n",
    "for c in cat_cols:\n",
    "    if c in df_prep.columns:\n",
    "        df_prep[c] = df_prep[c].fillna('missing')\n",
    "\n",
    "# Fill numeric NaNs with median (computed on the whole preprocessed set)\n",
    "for n in num_cols:\n",
    "    if n in df_prep.columns:\n",
    "        med = df_prep[n].median()\n",
    "        df_prep[n] = df_prep[n].fillna(med)\n",
    "\n",
    "# Now perform the 60/20/20 split on the preprocessed dataframe\n",
    "# This ensures downstream cells can assume missing values are handled\n",
    "df_full_train, df_test = train_test_split(df_prep, test_size=0.2, random_state=42)\n",
    "df_train, df_val = train_test_split(df_full_train, test_size=0.25, random_state=42)\n",
    "\n",
    "len(df_train), len(df_val), len(df_test)\n"
   ]
  },
  {
   "cell_type": "code",
   "execution_count": 18,
   "id": "fa00a707",
   "metadata": {},
   "outputs": [
    {
     "name": "stdout",
     "output_type": "stream",
     "text": [
      "lead_source 0.04\n",
      "industry 0.01\n",
      "employment_status 0.01\n",
      "location 0.0\n"
     ]
    }
   ],
   "source": [
    "from sklearn.metrics import mutual_info_score\n",
    "\n",
    "# Mutual information for categorical features (preprocessing already filled NaNs)\n",
    "categorical = ['lead_source', 'industry', 'employment_status', 'location']\n",
    "\n",
    "for col in categorical:\n",
    "    score = mutual_info_score(df_train['converted'], df_train[col])\n",
    "    print(col, round(score, 2))\n"
   ]
  },
  {
   "cell_type": "code",
   "execution_count": null,
   "id": "e64ed6a8",
   "metadata": {},
   "outputs": [
    {
     "name": "stdout",
     "output_type": "stream",
     "text": [
      "Dropped 0 rows from train (missing target), 0 from val\n",
      "No NaNs in X_train/X_val — safe to fit\n",
      "Validation accuracy: 0.75\n",
      "Validation accuracy: 0.75\n"
     ]
    }
   ],
   "source": [
    "from sklearn.feature_extraction import DictVectorizer\n",
    "from sklearn.linear_model import LogisticRegression\n",
    "from sklearn.metrics import accuracy_score\n",
    "\n",
    "# Define features (all except target)\n",
    "features = [\n",
    "    'lead_source', 'industry', 'number_of_courses_viewed', 'annual_income',\n",
    "    'employment_status', 'location', 'interaction_count', 'lead_score'\n",
    "]\n",
    "\n",
    "# Prepare training and validation dictionaries (preprocessing already applied)\n",
    "train_dicts = df_train[features].to_dict(orient='records')\n",
    "val_dicts = df_val[features].to_dict(orient='records')\n",
    "\n",
    "# Vectorize\n",
    "dv = DictVectorizer(sparse=False)\n",
    "X_train = dv.fit_transform(train_dicts)\n",
    "X_val = dv.transform(val_dicts)\n",
    "\n",
    "# Targets\n",
    "y_train = df_train['converted']\n",
    "y_val = df_val['converted']\n",
    "\n",
    "# Train model\n",
    "model = LogisticRegression(solver='liblinear', C=1.0, max_iter=1000, random_state=42)\n",
    "model.fit(X_train, y_train)\n",
    "\n",
    "# Evaluate\n",
    "y_pred = model.predict(X_val)\n",
    "acc = accuracy_score(y_val, y_pred)\n",
    "print('Validation accuracy:', round(acc, 2))\n"
   ]
  },
  {
   "cell_type": "code",
   "execution_count": 19,
   "id": "80e7fd21",
   "metadata": {},
   "outputs": [
    {
     "name": "stdout",
     "output_type": "stream",
     "text": [
      "lead_source: -0.0102\n",
      "industry: 0.0000\n",
      "number_of_courses_viewed: 0.1911\n",
      "annual_income: -0.1058\n",
      "employment_status: -0.0068\n",
      "location: 0.0000\n",
      "interaction_count: 0.1911\n",
      "lead_score: -0.0034\n"
     ]
    }
   ],
   "source": [
    "base_acc = accuracy_score(y_val, y_pred)\n",
    "\n",
    "for f in features:\n",
    "    sub_features = [x for x in features if x != f]\n",
    "    train_dicts = df_train[sub_features].to_dict(orient='records')\n",
    "    val_dicts = df_val[sub_features].to_dict(orient='records')\n",
    "    X_train = dv.fit_transform(train_dicts)\n",
    "    X_val = dv.transform(val_dicts)\n",
    "    model.fit(X_train, y_train)\n",
    "    acc = accuracy_score(y_val, model.predict(X_val))\n",
    "    print(f\"{f}: {base_acc - acc:.4f}\")\n"
   ]
  },
  {
   "cell_type": "code",
   "execution_count": 20,
   "id": "9fb3dd8c",
   "metadata": {},
   "outputs": [
    {
     "name": "stdout",
     "output_type": "stream",
     "text": [
      "0.01 0.754\n",
      "0.1 0.744\n",
      "1 0.751\n",
      "10 0.751\n",
      "100 0.751\n"
     ]
    }
   ],
   "source": [
    "for c in [0.01, 0.1, 1, 10, 100]:\n",
    "    model = LogisticRegression(solver='liblinear', C=c, max_iter=1000, random_state=42)\n",
    "    model.fit(X_train, y_train)\n",
    "    acc = accuracy_score(y_val, model.predict(X_val))\n",
    "    print(c, round(acc, 3))\n"
   ]
  },
  {
   "cell_type": "code",
   "execution_count": null,
   "id": "dd78028f",
   "metadata": {},
   "outputs": [],
   "source": []
  }
 ],
 "metadata": {
  "kernelspec": {
   "display_name": "base",
   "language": "python",
   "name": "python3"
  },
  "language_info": {
   "codemirror_mode": {
    "name": "ipython",
    "version": 3
   },
   "file_extension": ".py",
   "mimetype": "text/x-python",
   "name": "python",
   "nbconvert_exporter": "python",
   "pygments_lexer": "ipython3",
   "version": "3.12.7"
  }
 },
 "nbformat": 4,
 "nbformat_minor": 5
}
